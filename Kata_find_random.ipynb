import random
def find_random_seed(lst):
    i = 0
    population = list(range(101))
    while i < 10000:
        random.seed(i)
        lst1 = []
        for j in range(10):
            lst1.append(random.randint(0, 100))
        if (lst1 == lst):
            return i
        i += 1
    pass
