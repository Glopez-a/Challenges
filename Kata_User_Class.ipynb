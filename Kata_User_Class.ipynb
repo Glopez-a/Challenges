{
 "cells": [
  {
   "cell_type": "code",
   "execution_count": null,
   "id": "21cdcc2f",
   "metadata": {},
   "outputs": [],
   "source": [
    "class User(object):\n",
    "    def __init__(self, name, balance, checking_account):\n",
    "        self.name = name\n",
    "        self.balance = balance\n",
    "        self.checking_account = checking_account\n",
    "    #Happy coding\n",
    "    \n",
    "    def withdraw(money):\n",
    "        if (moneyy > self.balance)\n",
    "            raise ValueError(\"No money\")\n",
    "        self.balance -= money\n",
    "        return self.name + \" has \" + str(balance)\n",
    "    \n",
    "    def check(user, money):\n",
    "        if (money > user.balance)\n",
    "            raise ValueError(\"No money\")\n",
    "        self.balance += money\n",
    "        user.withdraw(money)\n",
    "        return self.name + \" has \" + str(balance) + \" and \" + user.name + \" has \" + user.balance  + \".\"\n",
    "    \n",
    "    def add_cash(money):\n",
    "        self.balance += money\n",
    "        return self.name + \" has \" + str(balance)"
   ]
  },
  {
   "cell_type": "code",
   "execution_count": 1,
   "id": "eba2636c",
   "metadata": {},
   "outputs": [
    {
     "ename": "TypeError",
     "evalue": "can only concatenate str (not \"int\") to str",
     "output_type": "error",
     "traceback": [
      "\u001b[0;31m---------------------------------------------------------------------------\u001b[0m",
      "\u001b[0;31mTypeError\u001b[0m                                 Traceback (most recent call last)",
      "Cell \u001b[0;32mIn[1], line 1\u001b[0m\n\u001b[0;32m----> 1\u001b[0m \u001b[38;5;28mprint\u001b[39m(\u001b[38;5;124;43m\"\u001b[39;49m\u001b[38;5;124;43masdasd\u001b[39;49m\u001b[38;5;124;43m\"\u001b[39;49m\u001b[43m \u001b[49m\u001b[38;5;241;43m+\u001b[39;49m\u001b[43m \u001b[49m\u001b[38;5;241;43m3\u001b[39;49m)\n",
      "\u001b[0;31mTypeError\u001b[0m: can only concatenate str (not \"int\") to str"
     ]
    }
   ],
   "source": [
    "print(\"asdasd\" + 3)"
   ]
  },
  {
   "cell_type": "code",
   "execution_count": 5,
   "id": "4d81c2b1",
   "metadata": {},
   "outputs": [],
   "source": [
    "class User(object):\n",
    "    def __init__(self, name, balance, checking_account):\n",
    "        self.name = name\n",
    "        self.balance = balance\n",
    "        self.checking_account = checking_account\n",
    "    \n",
    "    def withdraw(self, v):\n",
    "        if v > self.balance: raise ValueError()\n",
    "        self.balance -= v\n",
    "        return \"{} has {}.\".format(self.name, int(self.balance))\n",
    "    \n",
    "    def add_cash(self, v):\n",
    "        self.balance += v\n",
    "        return \"{} has {}.\".format(self.name, int(self.balance))\n",
    "    \n",
    "    def check(self, other, v):\n",
    "        if not other.checking_account: raise ValueError()\n",
    "        s1,s2 = other.withdraw(v), self.add_cash(v)[:-1]\n",
    "        return \"{} and {}\".format(s2,s1)\n",
    "    \n",
    "    #def __str__(self): return \"User({}, {}, {})\".format(self.name, self.balance, self.checking_account)"
   ]
  },
  {
   "cell_type": "code",
   "execution_count": 6,
   "id": "e3343195",
   "metadata": {},
   "outputs": [],
   "source": [
    "gonzalo = User(\"gonzalo\", 100, True)"
   ]
  },
  {
   "cell_type": "code",
   "execution_count": 7,
   "id": "43927b9d",
   "metadata": {},
   "outputs": [
    {
     "name": "stdout",
     "output_type": "stream",
     "text": [
      "<__main__.User object at 0x7f645e79d2b0>\n"
     ]
    }
   ],
   "source": [
    "print(gonzalo)"
   ]
  },
  {
   "cell_type": "code",
   "execution_count": null,
   "id": "efe2f444",
   "metadata": {},
   "outputs": [],
   "source": []
  }
 ],
 "metadata": {
  "kernelspec": {
   "display_name": "Python 3 (ipykernel)",
   "language": "python",
   "name": "python3"
  },
  "language_info": {
   "codemirror_mode": {
    "name": "ipython",
    "version": 3
   },
   "file_extension": ".py",
   "mimetype": "text/x-python",
   "name": "python",
   "nbconvert_exporter": "python",
   "pygments_lexer": "ipython3",
   "version": "3.9.16"
  }
 },
 "nbformat": 4,
 "nbformat_minor": 5
}
