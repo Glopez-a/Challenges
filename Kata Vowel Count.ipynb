{
 "cells": [
  {
   "cell_type": "code",
   "execution_count": 6,
   "id": "e6f7a2ff",
   "metadata": {},
   "outputs": [],
   "source": [
    "def get_count(sentence):\n",
    "    contador = 0\n",
    "    for element in sentence:\n",
    "        if (element in \"aeiou\"):\n",
    "            contador = contador + 1\n",
    "    return contador"
   ]
  },
  {
   "cell_type": "code",
   "execution_count": 7,
   "id": "3d238604",
   "metadata": {},
   "outputs": [
    {
     "name": "stdout",
     "output_type": "stream",
     "text": [
      "3\n"
     ]
    }
   ],
   "source": [
    "#Prueba1\n",
    "x1 = get_count(\"Ironhack\")\n",
    "print(x1)"
   ]
  },
  {
   "cell_type": "code",
   "execution_count": null,
   "id": "1dc1a65c",
   "metadata": {},
   "outputs": [],
   "source": [
    "print ()"
   ]
  }
 ],
 "metadata": {
  "kernelspec": {
   "display_name": "Python [conda env:m1_env]",
   "language": "python",
   "name": "conda-env-m1_env-py"
  },
  "language_info": {
   "codemirror_mode": {
    "name": "ipython",
    "version": 3
   },
   "file_extension": ".py",
   "mimetype": "text/x-python",
   "name": "python",
   "nbconvert_exporter": "python",
   "pygments_lexer": "ipython3",
   "version": "3.9.16"
  }
 },
 "nbformat": 4,
 "nbformat_minor": 5
}
