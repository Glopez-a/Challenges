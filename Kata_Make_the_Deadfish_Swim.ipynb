{
 "cells": [
  {
   "cell_type": "code",
   "execution_count": null,
   "id": "6ffe5529",
   "metadata": {},
   "outputs": [],
   "source": [
    "def parse(data):\n",
    "    i = 0\n",
    "    my_list = []\n",
    "    for letter in data:\n",
    "        if (letter == 'i'):\n",
    "            i += 1\n",
    "        elif (letter == 'd'):\n",
    "            i -= 1\n",
    "        elif (letter == 's'):\n",
    "            i = i * i\n",
    "        elif (letter == 'o'):\n",
    "            my_list.append(i)\n",
    "    return my_list"
   ]
  }
 ],
 "metadata": {
  "kernelspec": {
   "display_name": "Python [conda env:m1_env]",
   "language": "python",
   "name": "conda-env-m1_env-py"
  },
  "language_info": {
   "codemirror_mode": {
    "name": "ipython",
    "version": 3
   },
   "file_extension": ".py",
   "mimetype": "text/x-python",
   "name": "python",
   "nbconvert_exporter": "python",
   "pygments_lexer": "ipython3",
   "version": "3.9.16"
  }
 },
 "nbformat": 4,
 "nbformat_minor": 5
}
