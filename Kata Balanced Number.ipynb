{
 "cells": [
  {
   "cell_type": "code",
   "execution_count": 1,
   "id": "20727063",
   "metadata": {},
   "outputs": [],
   "source": [
    "def balanced_num(number):\n",
    "    a = [int(i) for i in str(number)]\n",
    "    b = sum(a[:int(len(a)/2 - 0.1)])\n",
    "    c = sum(a[int(len(a)/2+1):])\n",
    "    if (b == c):\n",
    "        return \"Balanced\"\n",
    "    else:\n",
    "        return \"Not Balanced\""
   ]
  },
  {
   "cell_type": "code",
   "execution_count": 3,
   "id": "8da3e840",
   "metadata": {},
   "outputs": [
    {
     "name": "stdout",
     "output_type": "stream",
     "text": [
      "Not Balanced\n"
     ]
    }
   ],
   "source": [
    "print (balanced_num(23345))"
   ]
  },
  {
   "cell_type": "code",
   "execution_count": 4,
   "id": "422a0764",
   "metadata": {},
   "outputs": [
    {
     "name": "stdout",
     "output_type": "stream",
     "text": [
      "Not Balanced\n"
     ]
    }
   ],
   "source": [
    "print (balanced_num(237345))"
   ]
  },
  {
   "cell_type": "code",
   "execution_count": null,
   "id": "b82f312b",
   "metadata": {},
   "outputs": [],
   "source": [
    "print (balanced_num(237345))"
   ]
  }
 ],
 "metadata": {
  "kernelspec": {
   "display_name": "Python [conda env:m1_env]",
   "language": "python",
   "name": "conda-env-m1_env-py"
  },
  "language_info": {
   "codemirror_mode": {
    "name": "ipython",
    "version": 3
   },
   "file_extension": ".py",
   "mimetype": "text/x-python",
   "name": "python",
   "nbconvert_exporter": "python",
   "pygments_lexer": "ipython3",
   "version": "3.9.16"
  }
 },
 "nbformat": 4,
 "nbformat_minor": 5
}
