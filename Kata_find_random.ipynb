{
 "cells": [
  {
   "cell_type": "code",
   "execution_count": 1,
   "id": "827e8e4e",
   "metadata": {},
   "outputs": [],
   "source": [
    "import random\n",
    "def find_random_seed(lst):\n",
    "    i = 0\n",
    "    population = list(range(101))\n",
    "    while i < 10000:\n",
    "        random.seed(i)\n",
    "        lst1 = []\n",
    "        for j in range(10):\n",
    "            lst1.append(random.randint(0, 100))\n",
    "        if (lst1 == lst):\n",
    "            return i\n",
    "        i += 1\n",
    "    pass"
   ]
  },
  {
   "cell_type": "code",
   "execution_count": null,
   "id": "e3e70967",
   "metadata": {},
   "outputs": [],
   "source": []
  }
 ],
 "metadata": {
  "kernelspec": {
   "display_name": "Python [conda env:m3_env]",
   "language": "python",
   "name": "conda-env-m3_env-py"
  },
  "language_info": {
   "codemirror_mode": {
    "name": "ipython",
    "version": 3
   },
   "file_extension": ".py",
   "mimetype": "text/x-python",
   "name": "python",
   "nbconvert_exporter": "python",
   "pygments_lexer": "ipython3",
   "version": "3.11.3"
  }
 },
 "nbformat": 4,
 "nbformat_minor": 5
}
