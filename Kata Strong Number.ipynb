{
 "cells": [
  {
   "cell_type": "code",
   "execution_count": 1,
   "id": "d74da943",
   "metadata": {},
   "outputs": [],
   "source": [
    "import math\n",
    "def strong_num(number):\n",
    "    x = 0\n",
    "    for i in str(number):\n",
    "        x += math.factorial(i)\n",
    "    if (x == number):\n",
    "        return (\"STRONGGG!!!!\")\n",
    "    else:\n",
    "        return (\"Not Strong !!\")"
   ]
  },
  {
   "cell_type": "code",
   "execution_count": null,
   "id": "93e75cb9",
   "metadata": {},
   "outputs": [],
   "source": [
    "print ()"
   ]
  }
 ],
 "metadata": {
  "kernelspec": {
   "display_name": "Python [conda env:m1_env]",
   "language": "python",
   "name": "conda-env-m1_env-py"
  },
  "language_info": {
   "codemirror_mode": {
    "name": "ipython",
    "version": 3
   },
   "file_extension": ".py",
   "mimetype": "text/x-python",
   "name": "python",
   "nbconvert_exporter": "python",
   "pygments_lexer": "ipython3",
   "version": "3.9.16"
  }
 },
 "nbformat": 4,
 "nbformat_minor": 5
}
