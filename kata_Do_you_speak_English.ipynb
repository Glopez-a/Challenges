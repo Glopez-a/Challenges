{
 "cells": [
  {
   "cell_type": "code",
   "execution_count": 9,
   "id": "bd6a9f6d",
   "metadata": {},
   "outputs": [],
   "source": [
    "def sp_eng(sentence): \n",
    "    # your code here\n",
    "\n",
    "    if sentence.lower() in \"english\":\n",
    "        return True\n",
    "    else:\n",
    "        return False\n"
   ]
  },
  {
   "cell_type": "code",
   "execution_count": 10,
   "id": "bab28e47",
   "metadata": {},
   "outputs": [
    {
     "name": "stdout",
     "output_type": "stream",
     "text": [
      "No es True\n"
     ]
    }
   ],
   "source": [
    "if sp_eng(\"engDSlish\") == True:\n",
    "    print(\"Es True\")\n",
    "else:\n",
    "    print(\"No es True\")"
   ]
  },
  {
   "cell_type": "code",
   "execution_count": null,
   "id": "7f252082",
   "metadata": {},
   "outputs": [],
   "source": []
  }
 ],
 "metadata": {
  "kernelspec": {
   "display_name": "Python 3 (ipykernel)",
   "language": "python",
   "name": "python3"
  },
  "language_info": {
   "codemirror_mode": {
    "name": "ipython",
    "version": 3
   },
   "file_extension": ".py",
   "mimetype": "text/x-python",
   "name": "python",
   "nbconvert_exporter": "python",
   "pygments_lexer": "ipython3",
   "version": "3.9.16"
  }
 },
 "nbformat": 4,
 "nbformat_minor": 5
}
